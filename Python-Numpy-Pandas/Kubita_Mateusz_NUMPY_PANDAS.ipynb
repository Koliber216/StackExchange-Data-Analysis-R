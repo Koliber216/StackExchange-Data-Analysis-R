{
 "cells": [
  {
   "cell_type": "code",
   "execution_count": 1,
   "id": "0a065f4a",
   "metadata": {},
   "outputs": [
    {
     "data": {
      "text/plain": [
       "' PANDAS AND NUMPY\\n KUBITA MATEUSZ\\n'"
      ]
     },
     "execution_count": 1,
     "metadata": {},
     "output_type": "execute_result"
    }
   ],
   "source": [
    "''' PANDAS AND NUMPY\n",
    " KUBITA MATEUSZ\n",
    "'''"
   ]
  },
  {
   "cell_type": "code",
   "execution_count": 3,
   "id": "726eef35",
   "metadata": {
    "scrolled": true
   },
   "outputs": [
    {
     "data": {
      "text/plain": [
       "89120"
      ]
     },
     "execution_count": 3,
     "metadata": {},
     "output_type": "execute_result"
    }
   ],
   "source": [
    "#Ad. 1 Wczytanie ramek danych, bibliotek, stworzenie bazy danych i załączenie tam ramek danych\n",
    "\n",
    "#wczytanie bibliotek\n",
    "import pandas as pd\n",
    "import numpy as np\n",
    "import os, os.path\n",
    "import sqlite3\n",
    "\n",
    "#Wczytanie ramek danych\n",
    "Badges = pd.read_csv(\"frames//Badges.csv.gz\", comment = \"#\", compression = \"gzip\")\n",
    "Comments = pd.read_csv(\"frames//Comments.csv.gz\", comment = \"#\", compression = \"gzip\")\n",
    "PostLinks = pd.read_csv(\"frames//PostLinks.csv.gz\", comment = \"#\", compression = \"gzip\")\n",
    "Posts = pd.read_csv(\"frames//Posts.csv.gz\", comment = \"#\", compression = \"gzip\")\n",
    "Tags = pd.read_csv(\"frames//Tags.csv.gz\", comment = \"#\", compression = \"gzip\")\n",
    "Votes = pd.read_csv(\"frames//Votes.csv.gz\", comment = \"#\", compression = \"gzip\")\n",
    "Users = pd.read_csv(\"frames//Users.csv.gz\", compression = \"gzip\")\n",
    "\n",
    "#Stworzenie bazy danych i wczytanie tam ramek danych\n",
    "data_base = os.path.join(\"data_base8\")\n",
    "conn = sqlite3.connect(data_base)\n",
    "\n",
    "Badges.to_sql(\"Badges\", conn)\n",
    "Comments.to_sql(\"Comments\", conn)\n",
    "PostLinks.to_sql(\"PostLinks\", conn)\n",
    "Posts.to_sql(\"Posts\", conn)\n",
    "Tags.to_sql(\"Tags\", conn)\n",
    "Votes.to_sql(\"Votes\", conn)\n",
    "Users.to_sql(\"Users\", conn)"
   ]
  },
  {
   "cell_type": "code",
   "execution_count": 4,
   "id": "2308fa3f",
   "metadata": {},
   "outputs": [],
   "source": [
    "#ZAPYTANIE 1\n",
    "sql1 = pd.read_sql_query(\"\"\"SELECT Count, TagName\n",
    "FROM Tags\n",
    "WHERE Count > 1000\n",
    "ORDER BY Count DESC\n",
    "\"\"\",conn)"
   ]
  },
  {
   "cell_type": "code",
   "execution_count": 5,
   "id": "6fb63da0",
   "metadata": {},
   "outputs": [],
   "source": [
    "res1 = Tags[Tags.Count > 1000].reset_index(drop = True)[[\"Count\", \"TagName\"]].sort_values([\"Count\"], ascending = [False]).reset_index(drop = True)"
   ]
  },
  {
   "cell_type": "code",
   "execution_count": 6,
   "id": "58b9c620",
   "metadata": {},
   "outputs": [
    {
     "data": {
      "text/plain": [
       "True"
      ]
     },
     "execution_count": 6,
     "metadata": {},
     "output_type": "execute_result"
    }
   ],
   "source": [
    "#POPRAWNOSC WYNIKOW 1\n",
    "res1.equals(sql1)"
   ]
  },
  {
   "cell_type": "code",
   "execution_count": 7,
   "id": "f89969a9",
   "metadata": {},
   "outputs": [],
   "source": [
    "#ZAPYTANIE 2\n",
    "sql2 = pd.read_sql_query(\"\"\"SELECT Location, COUNT(*) AS Count\n",
    "FROM (\n",
    "SELECT Posts.OwnerUserId, Users.Id, Users.Location\n",
    "FROM Users\n",
    "JOIN Posts ON Users.Id = Posts.OwnerUserId\n",
    ")\n",
    "WHERE Location NOT IN ('')\n",
    "GROUP BY Location\n",
    "ORDER BY Count DESC\n",
    "LIMIT 10\"\"\", conn)"
   ]
  },
  {
   "cell_type": "code",
   "execution_count": 8,
   "id": "2e7466ee",
   "metadata": {},
   "outputs": [],
   "source": [
    "res2 = Posts.merge(Users, left_on=\"OwnerUserId\", right_on = \"Id\")\n",
    "res2 = res2[[\"OwnerUserId\", \"Id_x\", \"Location\"]]\n",
    "res2 = pd.DataFrame(res2.Location.value_counts()).reset_index()\n",
    "res2.columns = [\"Location\", \"Count\"]\n",
    "res2 = res2.iloc[0:10]"
   ]
  },
  {
   "cell_type": "code",
   "execution_count": 9,
   "id": "61d59b4e",
   "metadata": {},
   "outputs": [
    {
     "data": {
      "text/plain": [
       "True"
      ]
     },
     "execution_count": 9,
     "metadata": {},
     "output_type": "execute_result"
    }
   ],
   "source": [
    "#POPRAWNOSC WYNIKOW 2\n",
    "res2.equals(sql2)"
   ]
  },
  {
   "cell_type": "code",
   "execution_count": 10,
   "id": "2f9f60dc",
   "metadata": {},
   "outputs": [],
   "source": [
    "#ZAPYTANIE 3\n",
    "sql3 = pd.read_sql_query(\"\"\"SELECT Year, SUM(Number) AS TotalNumber\n",
    "FROM (\n",
    "SELECT\n",
    "Name,\n",
    "COUNT(*) AS Number,\n",
    "STRFTIME('%Y', Badges.Date) AS Year\n",
    "FROM Badges\n",
    "WHERE Class = 1\n",
    "GROUP BY Name, Year\n",
    ")\n",
    "GROUP BY Year\n",
    "ORDER BY TotalNumber\n",
    "\"\"\",conn)"
   ]
  },
  {
   "cell_type": "code",
   "execution_count": 11,
   "id": "e9bf1afa",
   "metadata": {},
   "outputs": [],
   "source": [
    "#AD.1\n",
    "tmp = Badges.copy()\n",
    "tmp[\"Date\"] = tmp[\"Date\"].str.slice(0,4) #wybranie podzbioru stringa od 0 do 4 czyli rok w dacie\n",
    "res3 = tmp[tmp.Class == 1]\n",
    "#AD.2\n",
    "res3 = res3.groupby([\"Name\", \"Date\"]).size().reset_index()\n",
    "res3.columns = [\"Name\", \"Year\", \"Count\"]\n",
    "res3 = res3[[\"Count\"]].groupby(res3.Year).apply(np.sum).reset_index()\n",
    "res3.columns = [\"Year\", \"TotalNumber\"]\n",
    "res3.sort_values(by = [\"TotalNumber\"], inplace = True)\n",
    "res3.reset_index(drop = True, inplace = True)"
   ]
  },
  {
   "cell_type": "code",
   "execution_count": 12,
   "id": "480fe5f9",
   "metadata": {},
   "outputs": [
    {
     "data": {
      "text/plain": [
       "True"
      ]
     },
     "execution_count": 12,
     "metadata": {},
     "output_type": "execute_result"
    }
   ],
   "source": [
    "#POPRAWNOSC WYNIKOW 3\n",
    "res3.equals(sql3)"
   ]
  },
  {
   "cell_type": "code",
   "execution_count": 13,
   "id": "8dc2f55c",
   "metadata": {},
   "outputs": [],
   "source": [
    "#ZAPYTANIE 4\n",
    "sql4 = pd.read_sql_query(\"\"\"SELECT\n",
    "Users.AccountId,\n",
    "Users.DisplayName,\n",
    "Users.Location,\n",
    "AVG(PostAuth.AnswersCount) as AverageAnswersCount\n",
    "FROM\n",
    "(\n",
    "SELECT\n",
    "AnsCount.AnswersCount,\n",
    "Posts.Id,\n",
    "Posts.OwnerUserId\n",
    "FROM (\n",
    "SELECT Posts.ParentId, COUNT(*) AS AnswersCount\n",
    "FROM Posts\n",
    "WHERE Posts.PostTypeId = 2\n",
    "GROUP BY Posts.ParentId\n",
    ") AS AnsCount\n",
    "JOIN Posts ON Posts.Id = AnsCount.ParentId\n",
    ") AS PostAuth\n",
    "JOIN Users ON Users.AccountId=PostAuth.OwnerUserId\n",
    "GROUP BY OwnerUserId\n",
    "ORDER BY AverageAnswersCount DESC, AccountId ASC\n",
    "LIMIT 10\n",
    "\"\"\",conn)"
   ]
  },
  {
   "cell_type": "code",
   "execution_count": 14,
   "id": "e912c10a",
   "metadata": {},
   "outputs": [],
   "source": [
    "#AD.1 Stworzenie AnsCount\n",
    "AnsCount = Posts[Posts.PostTypeId == 2]\n",
    "AnsCount = pd.DataFrame(AnsCount.groupby(\"ParentId\").size().reset_index())\n",
    "AnsCount.columns = [\"ParentId\", \"AnswersCount\"]\n",
    "#AD.2 Stworzenie PostAuth\n",
    "PostAuth = Posts.merge(AnsCount, left_on = \"Id\", right_on = \"ParentId\")\n",
    "PostAuth = PostAuth[[\"AnswersCount\",\"Id\", \"OwnerUserId\"]]\n",
    "#AD.3\n",
    "res4 = Users.merge(PostAuth, left_on = \"AccountId\", right_on = \"OwnerUserId\")\n",
    "res4 = res4.groupby([\"AccountId\",\"DisplayName\", \"Location\"], dropna = False)[\"AnswersCount\"].agg(np.mean).reset_index()\n",
    "res4.columns = [\"AccountId\", \"DisplayName\", \"Location\", \"AverageAnswersCount\"]\n",
    "res4.sort_values([\"AverageAnswersCount\", \"AccountId\"], ascending = [False,True], inplace = True)\n",
    "res4 = res4.iloc[0:10]\n",
    "res4.reset_index(drop = True, inplace = True)"
   ]
  },
  {
   "cell_type": "code",
   "execution_count": 15,
   "id": "d0e8d5a4",
   "metadata": {},
   "outputs": [
    {
     "data": {
      "text/plain": [
       "True"
      ]
     },
     "execution_count": 15,
     "metadata": {},
     "output_type": "execute_result"
    }
   ],
   "source": [
    "#POPRAWNOSC WYNIKOW 4\n",
    "res4.equals(sql4)"
   ]
  },
  {
   "cell_type": "code",
   "execution_count": 16,
   "id": "cc1fc689",
   "metadata": {},
   "outputs": [],
   "source": [
    "#ZAPYTANIE 5\n",
    "sql5 = pd.read_sql_query(\"\"\"SELECT Posts.Title, Posts.Id,\n",
    "STRFTIME('%Y-%m-%d', Posts.CreationDate) AS Date,\n",
    "VotesByAge.Votes\n",
    "FROM Posts\n",
    "JOIN (\n",
    "SELECT\n",
    "PostId,\n",
    "MAX(CASE WHEN VoteDate = 'new' THEN Total ELSE 0 END) NewVotes,\n",
    "MAX(CASE WHEN VoteDate = 'old' THEN Total ELSE 0 END) OldVotes,\n",
    "SUM(Total) AS Votes\n",
    "FROM (\n",
    "SELECT\n",
    "PostId,\n",
    "CASE STRFTIME('%Y', CreationDate)\n",
    "WHEN '2021' THEN 'new'\n",
    "WHEN '2020' THEN 'new'\n",
    "ELSE 'old'\n",
    "END VoteDate,\n",
    "COUNT(*) AS Total\n",
    "FROM Votes\n",
    "WHERE VoteTypeId IN (1, 2, 5)\n",
    "GROUP BY PostId, VoteDate\n",
    ") AS VotesDates\n",
    "GROUP BY VotesDates.PostId\n",
    "HAVING NewVotes > OldVotes\n",
    ") AS VotesByAge ON Posts.Id = VotesByAge.PostId\n",
    "WHERE Title NOT IN ('')\n",
    "ORDER BY Votes DESC\n",
    "LIMIT 10\n",
    "\"\"\", conn)"
   ]
  },
  {
   "cell_type": "code",
   "execution_count": 17,
   "id": "0ebf1d4f",
   "metadata": {},
   "outputs": [],
   "source": [
    "pd.options.mode.chained_assignment = None\n",
    "#AD.1 Stworznie VotesDates\n",
    "VotesDates = Votes[(Votes.VoteTypeId == 1) | (Votes.VoteTypeId == 2) | (Votes.VoteTypeId == 5)]\n",
    "VotesDates.loc[:,\"CreationDate\"] = VotesDates.loc[:,\"CreationDate\"].str.slice(0,4)\n",
    "VotesDates[\"VoteDate\"] = np.where((VotesDates[\"CreationDate\"] == \"2021\") | (VotesDates[\"CreationDate\"] == \"2020\"),\"new\",\"old\")\n",
    "VotesDates = VotesDates.groupby([\"PostId\",\"VoteDate\"]).size().reset_index()\n",
    "VotesDates.columns = [\"PostId\", \"VoteDate\", \"Total\"]\n",
    "#AD.2 Podwojne mergowanie aby zmodyfikowac ksztalt ramki danych \n",
    "VotesDates1 = VotesDates[VotesDates.VoteDate == \"new\"][[\"PostId\",\"Total\"]].reset_index(drop = True)\n",
    "VotesDates2 = VotesDates[VotesDates.VoteDate == \"old\"][[\"PostId\",\"Total\"]].reset_index(drop = True)\n",
    "VotesDates3 = pd.DataFrame(VotesDates.PostId.unique())\n",
    "VotesDates3.columns = [\"PostId\"]\n",
    "resA = VotesDates3.merge(VotesDates1, left_on = \"PostId\", right_on = \"PostId\", how = \"outer\")\n",
    "resB = resA.merge(VotesDates2,how =\"outer\", on = \"PostId\")\n",
    "resB.fillna(0, inplace = True)\n",
    "resB.columns = [\"PostId\",\"NewVotes\", \"OldVotes\"]\n",
    "resB[\"Votes\"] = resB[\"NewVotes\"] + resB[\"OldVotes\"]\n",
    "resB = resB[resB.NewVotes > resB.OldVotes].reset_index(drop = True)\n",
    "#AD.3\n",
    "res5 = Posts.merge(resB, left_on = \"Id\", right_on = \"PostId\")\n",
    "res5[\"Date\"] = res5[\"CreationDate\"].str.slice(0,10)\n",
    "res5 = res5[[\"Title\", \"Id\", \"Date\", \"Votes\"]]\n",
    "res5.dropna(subset = [\"Title\"], inplace = True)\n",
    "res5.sort_values(by = [\"Votes\", \"Id\"], ascending = [False, True], inplace = True)\n",
    "res5 = res5.iloc[0:10]\n",
    "res5.reset_index(drop = True,inplace = True)\n",
    "res5[\"Votes\"] = res5[\"Votes\"].astype(\"int64\")"
   ]
  },
  {
   "cell_type": "code",
   "execution_count": 18,
   "id": "843ad580",
   "metadata": {},
   "outputs": [
    {
     "data": {
      "text/plain": [
       "True"
      ]
     },
     "execution_count": 18,
     "metadata": {},
     "output_type": "execute_result"
    }
   ],
   "source": [
    "#POPRAWNOSC WYNIKOW 5\n",
    "res5.equals(sql5)"
   ]
  },
  {
   "cell_type": "code",
   "execution_count": 20,
   "id": "660d734b",
   "metadata": {},
   "outputs": [],
   "source": [
    "conn.close()"
   ]
  },
  {
   "cell_type": "code",
   "execution_count": null,
   "id": "17d0973c",
   "metadata": {},
   "outputs": [],
   "source": []
  },
  {
   "cell_type": "code",
   "execution_count": null,
   "id": "94d16c57",
   "metadata": {},
   "outputs": [],
   "source": []
  }
 ],
 "metadata": {
  "kernelspec": {
   "display_name": "Python 3 (ipykernel)",
   "language": "python",
   "name": "python3"
  },
  "language_info": {
   "codemirror_mode": {
    "name": "ipython",
    "version": 3
   },
   "file_extension": ".py",
   "mimetype": "text/x-python",
   "name": "python",
   "nbconvert_exporter": "python",
   "pygments_lexer": "ipython3",
   "version": "3.9.4"
  }
 },
 "nbformat": 4,
 "nbformat_minor": 5
}
